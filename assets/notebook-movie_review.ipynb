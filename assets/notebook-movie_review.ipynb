{
 "cells": [
  {
   "cell_type": "markdown",
   "metadata": {},
   "source": [
    "# Import required packages"
   ]
  },
  {
   "cell_type": "code",
   "execution_count": 1,
   "metadata": {},
   "outputs": [],
   "source": [
    "# https://scikit-learn.org/\n",
    "from sklearn.feature_extraction.text import CountVectorizer\n",
    "from sklearn.feature_extraction.text import TfidfTransformer\n",
    "from sklearn.naive_bayes import MultinomialNB\n",
    "from sklearn.pipeline import Pipeline\n",
    "# http://www.numpy.org/\n",
    "import numpy as np\n",
    "from sklearn.linear_model import SGDClassifier\n",
    "from sklearn import metrics\n",
    "from sklearn.model_selection import train_test_split\n",
    "# https://www.nltk.org/\n",
    "from nltk.collocations import BigramCollocationFinder\n",
    "from nltk.metrics import BigramAssocMeasures\n",
    "from nltk.corpus import movie_reviews\n",
    "from nltk.corpus import stopwords\n",
    "import string\n",
    "import nltk"
   ]
  },
  {
   "cell_type": "markdown",
   "metadata": {},
   "source": [
    "# Download movie reviews and stopwords from Natural Language Toolkit"
   ]
  },
  {
   "cell_type": "code",
   "execution_count": 2,
   "metadata": {
    "scrolled": false
   },
   "outputs": [
    {
     "name": "stdout",
     "output_type": "stream",
     "text": [
      "[nltk_data] Downloading package movie_reviews to\n",
      "[nltk_data]     C:\\Users\\scook\\AppData\\Roaming\\nltk_data...\n",
      "[nltk_data]   Package movie_reviews is already up-to-date!\n",
      "[nltk_data] Downloading package stopwords to\n",
      "[nltk_data]     C:\\Users\\scook\\AppData\\Roaming\\nltk_data...\n",
      "[nltk_data]   Package stopwords is already up-to-date!\n"
     ]
    },
    {
     "data": {
      "text/plain": [
       "True"
      ]
     },
     "execution_count": 2,
     "metadata": {},
     "output_type": "execute_result"
    }
   ],
   "source": [
    "nltk.download('movie_reviews')\n",
    "nltk.download('stopwords')"
   ]
  },
  {
   "cell_type": "markdown",
   "metadata": {},
   "source": [
    "# Get Data Here\n",
    "This function transforms the downloaded movie_reviews package into a dataset containing only the data we need"
   ]
  },
  {
   "cell_type": "code",
   "execution_count": 3,
   "metadata": {},
   "outputs": [],
   "source": [
    "def get_data():\n",
    "    \"\"\"\n",
    "    Get movie review data\n",
    "    \"\"\"\n",
    "    dataset = []\n",
    "    y_labels = []\n",
    "    # Extract categories\n",
    "    for cat in movie_reviews.categories():\n",
    "        # for files in each cateogry    \n",
    "        for fileid in movie_reviews.fileids(cat):\n",
    "            # Get the words in that category\n",
    "            words = list(movie_reviews.words(fileid))\n",
    "            sentences = \" \".join(word for word in words)\n",
    "            dataset.append((sentences))\n",
    "            y_labels.append(cat)\n",
    "    return dataset,y_labels\n"
   ]
  },
  {
   "cell_type": "code",
   "execution_count": 7,
   "metadata": {
    "collapsed": true
   },
   "outputs": [],
   "source": [
    "dataset, labels = get_data()\n",
    "target_labels = ['neg','pos']"
   ]
  },
  {
   "cell_type": "code",
   "execution_count": 12,
   "metadata": {},
   "outputs": [
    {
     "name": "stdout",
     "output_type": "stream",
     "text": [
      "pos\n",
      "every now and then a movie comes along from a suspect studio , with every indication that it will be a stinker , and to everybody ' s surprise ( perhaps even the studio ) the film becomes a critical darling . mtv films ' _election , a high school comedy starring matthew broderick and reese witherspoon , is a current example . did anybody know this film existed a week before it opened ? the plot is deceptively simple . george washington carver high school is having student elections . tracy flick ( reese witherspoon ) is an over - achiever with her hand raised at nearly every question , way , way , high . mr . \" m \" ( matthew broderick ) , sick of the megalomaniac student , encourages paul , a popular - but - slow jock to run . and paul ' s nihilistic sister jumps in the race as well , for personal reasons . the dark side of such sleeper success is that , because expectations were so low going in , the fact that this was quality stuff made the reviews even more enthusiastic than they have any right to be . you can ' t help going in with the baggage of glowing reviews , which is in contrast to the negative baggage that the reviewers were likely to have . _election , a good film , does not live up to its hype . what makes _election_ so disappointing is that it contains significant plot details lifted directly from _rushmore_ , released a few months earlier . the similarities are staggering : tracy flick ( _election_ ) is the president of an extraordinary number of clubs , and is involved with the school play . max fischer ( _rushmore_ ) is the president of an extraordinary number of clubs , and is involved with the school play . the most significant tension of _election_ is the potential relationship between a teacher and his student . the most significant tension of _rushmore_ is the potential relationship between a teacher and his student . tracy flick is from a single parent home , which has contributed to her drive . max fischer is from a single parent home , which has contributed to his drive . the male bumbling adult in _election_ ( matthew broderick ) pursues an extramarital affair , gets caught , and his whole life is ruined . he even gets a bee sting . the male bumbling adult in _rushmore_ ( bill murray ) pursues an extramarital affair , gets caught , and his whole life is ruined . he gets several bee stings . and so on . what happened ? how is it that an individual screenplay ( _rushmore_ ) and a novel ( _election_ ) contain so many significant plot points , and yet both films were probably not even aware of each other , made from two different studios , from a genre ( the high school geeks revenge movie ) that hadn ' t been fully formed yet ? even so , the strengths of _election_ rely upon its fantastic performances from broderick , witherspoon , and newcomer jessica campbell , as paul ' s anti - social sister , tammy . broderick here is playing the mr . rooney role from _ferris bueller_ , and he seems to be having the most fun he ' s had since then . witherspoon is a revelation . it ' s early in the year , it ' s a comedy , and teenagers have little clout , but for my money , witherspoon deserves an oscar nomination . and once campbell ' s character gets going , like in her fantastic speech in the gymnasium , then you ' re won over . one thing that ' s been bothering me since i ' ve seen it . there is an extraordinary amount of sexuality in this film . i suppose that , coming from mtv films , i should expect no less . . . but the film starts off light and airy , like a sitcom . as the screws tighten , and the tensions mount , alexander payne decides to add elements that , frankly , distract from the story . it is bad enough that mr . m doesn ' t like tracy ' s determination to win at all costs , but did they have to throw in the student / teacher relationship ? even so , there ' s no logical reason why mr . m has an affair when he does . there ' s a lot to like in _election_ , but the plot similarities to _rushmore_ , and the tonal nosedive it takes as it gets explicitly sex - driven , mark this as a disappointment .\n"
     ]
    }
   ],
   "source": [
    "print(labels[1001])\n",
    "print(dataset[1001])"
   ]
  },
  {
   "cell_type": "markdown",
   "metadata": {},
   "source": [
    "# Insert Your Code Here"
   ]
  },
  {
   "cell_type": "code",
   "execution_count": null,
   "metadata": {
    "collapsed": true
   },
   "outputs": [],
   "source": []
  },
  {
   "cell_type": "code",
   "execution_count": null,
   "metadata": {
    "collapsed": true
   },
   "outputs": [],
   "source": []
  },
  {
   "cell_type": "code",
   "execution_count": null,
   "metadata": {
    "collapsed": true
   },
   "outputs": [],
   "source": []
  },
  {
   "cell_type": "code",
   "execution_count": null,
   "metadata": {
    "collapsed": true
   },
   "outputs": [],
   "source": []
  },
  {
   "cell_type": "code",
   "execution_count": null,
   "metadata": {
    "collapsed": true
   },
   "outputs": [],
   "source": []
  },
  {
   "cell_type": "markdown",
   "metadata": {},
   "source": [
    "# Test Results Here"
   ]
  },
  {
   "cell_type": "code",
   "execution_count": 8,
   "metadata": {
    "collapsed": true
   },
   "outputs": [],
   "source": [
    "text_clf = Pipeline([('vect', CountVectorizer()),\n",
    "                     ('tfidf', TfidfTransformer()),\n",
    "                     ('clf', MultinomialNB()),\n",
    "])"
   ]
  },
  {
   "cell_type": "code",
   "execution_count": 9,
   "metadata": {
    "collapsed": true
   },
   "outputs": [],
   "source": [
    "def build_test_model_NB(data,labels):\n",
    "    X_train, X_test, y_train, y_test = train_test_split(data, labels, test_size=0.33, random_state=42)\n",
    "    text_clf.fit(X_train,y_train)\n",
    "    predicted = text_clf.predict(X_test)\n",
    "    print(\"Accuracy is: %0.4f\"%np.mean(predicted == y_test) + \"%\")\n",
    "    print(metrics.classification_report(y_test,predicted))"
   ]
  },
  {
   "cell_type": "code",
   "execution_count": 10,
   "metadata": {},
   "outputs": [
    {
     "name": "stdout",
     "output_type": "stream",
     "text": [
      "Accuracy is: 0.7803%\n",
      "             precision    recall  f1-score   support\n",
      "\n",
      "        neg       0.72      0.89      0.80       325\n",
      "        pos       0.87      0.67      0.76       335\n",
      "\n",
      "avg / total       0.80      0.78      0.78       660\n",
      "\n"
     ]
    }
   ],
   "source": [
    "build_test_model_NB(dataset,labels)"
   ]
  },
  {
   "cell_type": "code",
   "execution_count": null,
   "metadata": {
    "collapsed": true
   },
   "outputs": [],
   "source": []
  }
 ],
 "metadata": {
  "kernelspec": {
   "display_name": "Python 3",
   "language": "python",
   "name": "python3"
  },
  "language_info": {
   "codemirror_mode": {
    "name": "ipython",
    "version": 3
   },
   "file_extension": ".py",
   "mimetype": "text/x-python",
   "name": "python",
   "nbconvert_exporter": "python",
   "pygments_lexer": "ipython3",
   "version": "3.6.5"
  }
 },
 "nbformat": 4,
 "nbformat_minor": 2
}
